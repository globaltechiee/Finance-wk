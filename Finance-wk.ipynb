{
 "cells": [
  {
   "cell_type": "code",
   "execution_count": 1,
   "metadata": {
    "scrolled": true
   },
   "outputs": [],
   "source": [
    "import pandas as pd\n",
    "import datetime\n",
    "#API from quandl\n",
    "import quandl\n",
    "#For plotting\n",
    "import matplotlib.pyplot as plt\n",
    "import seaborn as seabornInstance\n",
    "\n",
    "quandl.ApiConfig.api_key = \"_kVGmoMrynxq2FhxCy_8\"\n",
    "#import pandas_datareader.data as web\n",
    "GS = quandl.get(\"WIKI/GS\", start_date=\"2010-01-01\", end_date=\"2018-12-31\")\n",
    "from pandas import Series, DataFrame"
   ]
  },
  {
   "cell_type": "code",
   "execution_count": 2,
   "metadata": {
    "scrolled": true
   },
   "outputs": [
    {
     "data": {
      "text/plain": [
       "<matplotlib.axes._subplots.AxesSubplot at 0x1a0fd5beb8>"
      ]
     },
     "execution_count": 2,
     "metadata": {},
     "output_type": "execute_result"
    },
    {
     "data": {
      "image/png": "[encoded data removed]",
      "text/plain": [
       "<Figure size 432x288 with 1 Axes>"
      ]
     },
     "metadata": {},
     "output_type": "display_data"
    }
   ],
   "source": [
    "GS.plot()"
   ]
  },
  {
   "cell_type": "code",
   "execution_count": 3,
   "metadata": {
    "scrolled": true
   },
   "outputs": [
    {
     "data": {
      "text/html": [
       "<div>\n",
       "<style scoped>\n",
       "    .dataframe tbody tr th:only-of-type {\n",
       "        vertical-align: middle;\n",
       "    }\n",
       "\n",
       "    .dataframe tbody tr th {\n",
       "        vertical-align: top;\n",
       "    }\n",
       "\n",
       "    .dataframe thead th {\n",
       "        text-align: right;\n",
       "    }\n",
       "</style>\n",
       "<table border=\"1\" class=\"dataframe\">\n",
       "  <thead>\n",
       "    <tr style=\"text-align: right;\">\n",
       "      <th></th>\n",
       "      <th>Open</th>\n",
       "      <th>High</th>\n",
       "      <th>Low</th>\n",
       "      <th>Close</th>\n",
       "      <th>Volume</th>\n",
       "      <th>Ex-Dividend</th>\n",
       "      <th>Split Ratio</th>\n",
       "      <th>Adj. Open</th>\n",
       "      <th>Adj. High</th>\n",
       "      <th>Adj. Low</th>\n",
       "      <th>Adj. Close</th>\n",
       "      <th>Adj. Volume</th>\n",
       "    </tr>\n",
       "  </thead>\n",
       "  <tbody>\n",
       "    <tr>\n",
       "      <th>count</th>\n",
       "      <td>2071.000000</td>\n",
       "      <td>2071.000000</td>\n",
       "      <td>2071.000000</td>\n",
       "      <td>2071.000000</td>\n",
       "      <td>2.071000e+03</td>\n",
       "      <td>2071.000000</td>\n",
       "      <td>2071.0</td>\n",
       "      <td>2071.000000</td>\n",
       "      <td>2071.000000</td>\n",
       "      <td>2071.000000</td>\n",
       "      <td>2071.000000</td>\n",
       "      <td>2.071000e+03</td>\n",
       "    </tr>\n",
       "    <tr>\n",
       "      <th>mean</th>\n",
       "      <td>168.002162</td>\n",
       "      <td>169.631972</td>\n",
       "      <td>166.378928</td>\n",
       "      <td>167.996299</td>\n",
       "      <td>4.840813e+06</td>\n",
       "      <td>0.007808</td>\n",
       "      <td>1.0</td>\n",
       "      <td>160.817209</td>\n",
       "      <td>162.372230</td>\n",
       "      <td>159.269828</td>\n",
       "      <td>160.812860</td>\n",
       "      <td>4.840813e+06</td>\n",
       "    </tr>\n",
       "    <tr>\n",
       "      <th>std</th>\n",
       "      <td>41.268981</td>\n",
       "      <td>41.444286</td>\n",
       "      <td>41.077186</td>\n",
       "      <td>41.261555</td>\n",
       "      <td>4.703515e+06</td>\n",
       "      <td>0.065329</td>\n",
       "      <td>0.0</td>\n",
       "      <td>43.734906</td>\n",
       "      <td>43.951656</td>\n",
       "      <td>43.505901</td>\n",
       "      <td>43.729471</td>\n",
       "      <td>4.703515e+06</td>\n",
       "    </tr>\n",
       "    <tr>\n",
       "      <th>min</th>\n",
       "      <td>88.060000</td>\n",
       "      <td>89.280000</td>\n",
       "      <td>84.270000</td>\n",
       "      <td>87.700000</td>\n",
       "      <td>6.977000e+05</td>\n",
       "      <td>0.000000</td>\n",
       "      <td>1.0</td>\n",
       "      <td>80.960208</td>\n",
       "      <td>82.081846</td>\n",
       "      <td>77.475775</td>\n",
       "      <td>80.803914</td>\n",
       "      <td>6.977000e+05</td>\n",
       "    </tr>\n",
       "    <tr>\n",
       "      <th>25%</th>\n",
       "      <td>145.855000</td>\n",
       "      <td>147.535000</td>\n",
       "      <td>144.060000</td>\n",
       "      <td>145.610000</td>\n",
       "      <td>2.628349e+06</td>\n",
       "      <td>0.000000</td>\n",
       "      <td>1.0</td>\n",
       "      <td>135.066604</td>\n",
       "      <td>136.446118</td>\n",
       "      <td>133.641200</td>\n",
       "      <td>135.095525</td>\n",
       "      <td>2.628349e+06</td>\n",
       "    </tr>\n",
       "    <tr>\n",
       "      <th>50%</th>\n",
       "      <td>163.490000</td>\n",
       "      <td>164.869900</td>\n",
       "      <td>162.020000</td>\n",
       "      <td>163.420000</td>\n",
       "      <td>3.666500e+06</td>\n",
       "      <td>0.000000</td>\n",
       "      <td>1.0</td>\n",
       "      <td>154.577293</td>\n",
       "      <td>156.031370</td>\n",
       "      <td>153.195793</td>\n",
       "      <td>154.558348</td>\n",
       "      <td>3.666500e+06</td>\n",
       "    </tr>\n",
       "    <tr>\n",
       "      <th>75%</th>\n",
       "      <td>189.645000</td>\n",
       "      <td>190.890000</td>\n",
       "      <td>188.040000</td>\n",
       "      <td>189.715000</td>\n",
       "      <td>5.485063e+06</td>\n",
       "      <td>0.000000</td>\n",
       "      <td>1.0</td>\n",
       "      <td>182.798730</td>\n",
       "      <td>184.180882</td>\n",
       "      <td>181.393857</td>\n",
       "      <td>182.676453</td>\n",
       "      <td>5.485063e+06</td>\n",
       "    </tr>\n",
       "    <tr>\n",
       "      <th>max</th>\n",
       "      <td>274.340000</td>\n",
       "      <td>275.310000</td>\n",
       "      <td>270.770000</td>\n",
       "      <td>273.380000</td>\n",
       "      <td>1.020437e+08</td>\n",
       "      <td>0.750000</td>\n",
       "      <td>1.0</td>\n",
       "      <td>274.340000</td>\n",
       "      <td>275.310000</td>\n",
       "      <td>270.770000</td>\n",
       "      <td>273.380000</td>\n",
       "      <td>1.020437e+08</td>\n",
       "    </tr>\n",
       "  </tbody>\n",
       "</table>\n",
       "</div>"
      ],
      "text/plain": [
       "              Open         High          Low        Close        Volume  \\\n",
       "count  2071.000000  2071.000000  2071.000000  2071.000000  2.071000e+03   \n",
       "mean    168.002162   169.631972   166.378928   167.996299  4.840813e+06   \n",
       "std      41.268981    41.444286    41.077186    41.261555  4.703515e+06   \n",
       "min      88.060000    89.280000    84.270000    87.700000  6.977000e+05   \n",
       "25%     145.855000   147.535000   144.060000   145.610000  2.628349e+06   \n",
       "50%     163.490000   164.869900   162.020000   163.420000  3.666500e+06   \n",
       "75%     189.645000   190.890000   188.040000   189.715000  5.485063e+06   \n",
       "max     274.340000   275.310000   270.770000   273.380000  1.020437e+08   \n",
       "\n",
       "       Ex-Dividend  Split Ratio    Adj. Open    Adj. High     Adj. Low  \\\n",
       "count  2071.000000       2071.0  2071.000000  2071.000000  2071.000000   \n",
       "mean      0.007808          1.0   160.817209   162.372230   159.269828   \n",
       "std       0.065329          0.0    43.734906    43.951656    43.505901   \n",
       "min       0.000000          1.0    80.960208    82.081846    77.475775   \n",
       "25%       0.000000          1.0   135.066604   136.446118   133.641200   \n",
       "50%       0.000000          1.0   154.577293   156.031370   153.195793   \n",
       "75%       0.000000          1.0   182.798730   184.180882   181.393857   \n",
       "max       0.750000          1.0   274.340000   275.310000   270.770000   \n",
       "\n",
       "        Adj. Close   Adj. Volume  \n",
       "count  2071.000000  2.071000e+03  \n",
       "mean    160.812860  4.840813e+06  \n",
       "std      43.729471  4.703515e+06  \n",
       "min      80.803914  6.977000e+05  \n",
       "25%     135.095525  2.628349e+06  \n",
       "50%     154.558348  3.666500e+06  \n",
       "75%     182.676453  5.485063e+06  \n",
       "max     273.380000  1.020437e+08  "
      ]
     },
     "execution_count": 3,
     "metadata": {},
     "output_type": "execute_result"
    }
   ],
   "source": [
    "# Return first rows of `GS`\n",
    "GS.head()\n",
    "\n",
    "# Return last rows of `GS`\n",
    "GS.tail()\n",
    "\n",
    "# Describe `GS`\n",
    "GS.describe()"
   ]
  },
  {
   "cell_type": "code",
   "execution_count": 4,
   "metadata": {},
   "outputs": [
    {
     "data": {
      "text/html": [
       "<div>\n",
       "<style scoped>\n",
       "    .dataframe tbody tr th:only-of-type {\n",
       "        vertical-align: middle;\n",
       "    }\n",
       "\n",
       "    .dataframe tbody tr th {\n",
       "        vertical-align: top;\n",
       "    }\n",
       "\n",
       "    .dataframe thead th {\n",
       "        text-align: right;\n",
       "    }\n",
       "</style>\n",
       "<table border=\"1\" class=\"dataframe\">\n",
       "  <thead>\n",
       "    <tr style=\"text-align: right;\">\n",
       "      <th></th>\n",
       "      <th>Open</th>\n",
       "      <th>High</th>\n",
       "      <th>Low</th>\n",
       "      <th>Close</th>\n",
       "      <th>Volume</th>\n",
       "      <th>Ex-Dividend</th>\n",
       "      <th>Split Ratio</th>\n",
       "      <th>Adj. Open</th>\n",
       "      <th>Adj. High</th>\n",
       "      <th>Adj. Low</th>\n",
       "      <th>Adj. Close</th>\n",
       "      <th>Adj. Volume</th>\n",
       "    </tr>\n",
       "    <tr>\n",
       "      <th>Date</th>\n",
       "      <th></th>\n",
       "      <th></th>\n",
       "      <th></th>\n",
       "      <th></th>\n",
       "      <th></th>\n",
       "      <th></th>\n",
       "      <th></th>\n",
       "      <th></th>\n",
       "      <th></th>\n",
       "      <th></th>\n",
       "      <th></th>\n",
       "      <th></th>\n",
       "    </tr>\n",
       "  </thead>\n",
       "  <tbody>\n",
       "    <tr>\n",
       "      <th>2010-01-04</th>\n",
       "      <td>170.05</td>\n",
       "      <td>174.25</td>\n",
       "      <td>169.51</td>\n",
       "      <td>173.08</td>\n",
       "      <td>9135000.0</td>\n",
       "      <td>0.0</td>\n",
       "      <td>1.0</td>\n",
       "      <td>153.683822</td>\n",
       "      <td>157.479600</td>\n",
       "      <td>153.195793</td>\n",
       "      <td>156.422204</td>\n",
       "      <td>9135000.0</td>\n",
       "    </tr>\n",
       "    <tr>\n",
       "      <th>2010-01-05</th>\n",
       "      <td>173.00</td>\n",
       "      <td>176.26</td>\n",
       "      <td>172.57</td>\n",
       "      <td>176.14</td>\n",
       "      <td>11659400.0</td>\n",
       "      <td>0.0</td>\n",
       "      <td>1.0</td>\n",
       "      <td>156.349904</td>\n",
       "      <td>159.296150</td>\n",
       "      <td>155.961288</td>\n",
       "      <td>159.187700</td>\n",
       "      <td>11659400.0</td>\n",
       "    </tr>\n",
       "    <tr>\n",
       "      <th>2010-01-06</th>\n",
       "      <td>175.38</td>\n",
       "      <td>175.38</td>\n",
       "      <td>173.76</td>\n",
       "      <td>174.26</td>\n",
       "      <td>7381100.0</td>\n",
       "      <td>0.0</td>\n",
       "      <td>1.0</td>\n",
       "      <td>158.500845</td>\n",
       "      <td>158.500845</td>\n",
       "      <td>157.036759</td>\n",
       "      <td>157.488637</td>\n",
       "      <td>7381100.0</td>\n",
       "    </tr>\n",
       "    <tr>\n",
       "      <th>2010-01-07</th>\n",
       "      <td>174.32</td>\n",
       "      <td>178.75</td>\n",
       "      <td>173.95</td>\n",
       "      <td>177.67</td>\n",
       "      <td>8727400.0</td>\n",
       "      <td>0.0</td>\n",
       "      <td>1.0</td>\n",
       "      <td>157.542863</td>\n",
       "      <td>161.546505</td>\n",
       "      <td>157.208473</td>\n",
       "      <td>160.570447</td>\n",
       "      <td>8727400.0</td>\n",
       "    </tr>\n",
       "    <tr>\n",
       "      <th>2010-01-08</th>\n",
       "      <td>176.33</td>\n",
       "      <td>177.43</td>\n",
       "      <td>173.95</td>\n",
       "      <td>174.31</td>\n",
       "      <td>7268100.0</td>\n",
       "      <td>0.0</td>\n",
       "      <td>1.0</td>\n",
       "      <td>159.359413</td>\n",
       "      <td>160.353546</td>\n",
       "      <td>157.208473</td>\n",
       "      <td>157.533825</td>\n",
       "      <td>7268100.0</td>\n",
       "    </tr>\n",
       "  </tbody>\n",
       "</table>\n",
       "</div>"
      ],
      "text/plain": [
       "              Open    High     Low   Close      Volume  Ex-Dividend  \\\n",
       "Date                                                                  \n",
       "2010-01-04  170.05  174.25  169.51  173.08   9135000.0          0.0   \n",
       "2010-01-05  173.00  176.26  172.57  176.14  11659400.0          0.0   \n",
       "2010-01-06  175.38  175.38  173.76  174.26   7381100.0          0.0   \n",
       "2010-01-07  174.32  178.75  173.95  177.67   8727400.0          0.0   \n",
       "2010-01-08  176.33  177.43  173.95  174.31   7268100.0          0.0   \n",
       "\n",
       "            Split Ratio   Adj. Open   Adj. High    Adj. Low  Adj. Close  \\\n",
       "Date                                                                      \n",
       "2010-01-04          1.0  153.683822  157.479600  153.195793  156.422204   \n",
       "2010-01-05          1.0  156.349904  159.296150  155.961288  159.187700   \n",
       "2010-01-06          1.0  158.500845  158.500845  157.036759  157.488637   \n",
       "2010-01-07          1.0  157.542863  161.546505  157.208473  160.570447   \n",
       "2010-01-08          1.0  159.359413  160.353546  157.208473  157.533825   \n",
       "\n",
       "            Adj. Volume  \n",
       "Date                     \n",
       "2010-01-04    9135000.0  \n",
       "2010-01-05   11659400.0  \n",
       "2010-01-06    7381100.0  \n",
       "2010-01-07    8727400.0  \n",
       "2010-01-08    7268100.0  "
      ]
     },
     "execution_count": 4,
     "metadata": {},
     "output_type": "execute_result"
    }
   ],
   "source": [
    "GS.to_csv('GS.csv', index=False)\n",
    "GS.head()"
   ]
  },
  {
   "cell_type": "code",
   "execution_count": 5,
   "metadata": {},
   "outputs": [],
   "source": [
    "close_px = GS['Adj. Close']\n",
    "mavg = close_px.rolling(window=100).mean()"
   ]
  },
  {
   "cell_type": "code",
   "execution_count": 6,
   "metadata": {},
   "outputs": [],
   "source": [
    "GS = pd.read_csv ('GS.csv')"
   ]
  },
  {
   "cell_type": "code",
   "execution_count": 7,
   "metadata": {},
   "outputs": [
    {
     "data": {
      "text/plain": [
       "<matplotlib.legend.Legend at 0x1a1a73b358>"
      ]
     },
     "execution_count": 7,
     "metadata": {},
     "output_type": "execute_result"
    },
    {
     "data": {
      "image/png": "[encoded data removed]",
      "text/plain": [
       "<Figure size 576x504 with 1 Axes>"
      ]
     },
     "metadata": {},
     "output_type": "display_data"
    }
   ],
   "source": [
    "%matplotlib inline\n",
    "import matplotlib.pyplot as plt\n",
    "from matplotlib import style\n",
    "\n",
    "# Adjusting the size of matplotlib\n",
    "import matplotlib as mpl\n",
    "mpl.rc('figure', figsize=(8, 7))\n",
    "mpl.__version__\n",
    "\n",
    "# Adjusting the style of matplotlib\n",
    "style.use('ggplot')\n",
    "\n",
    "close_px.plot(label='GS')\n",
    "mavg.plot(label='mavg')\n",
    "plt.legend()"
   ]
  },
  {
   "cell_type": "code",
   "execution_count": 8,
   "metadata": {},
   "outputs": [
    {
     "data": {
      "text/plain": [
       "<matplotlib.axes._subplots.AxesSubplot at 0x1a1abd2710>"
      ]
     },
     "execution_count": 8,
     "metadata": {},
     "output_type": "execute_result"
    },
    {
     "data": {
      "image/png": "[encoded data removed]",
      "text/plain": [
       "<Figure size 576x504 with 1 Axes>"
      ]
     },
     "metadata": {},
     "output_type": "display_data"
    }
   ],
   "source": [
    "rets = close_px / close_px.shift(1) - 1\n",
    "rets.plot(label='return')"
   ]
  },
  {
   "cell_type": "code",
   "execution_count": 9,
   "metadata": {},
   "outputs": [],
   "source": [
    "df = pd.read_csv('GS.csv')"
   ]
  },
  {
   "cell_type": "code",
   "execution_count": 10,
   "metadata": {},
   "outputs": [
    {
     "data": {
      "text/plain": [
       "<matplotlib.axes._subplots.AxesSubplot at 0x1a1ac4d6d8>"
      ]
     },
     "execution_count": 10,
     "metadata": {},
     "output_type": "execute_result"
    },
    {
     "data": {
      "image/png": "[encoded data removed]",
      "text/plain": [
       "<Figure size 576x504 with 1 Axes>"
      ]
     },
     "metadata": {},
     "output_type": "display_data"
    }
   ],
   "source": [
    "df.plot()"
   ]
  },
  {
   "cell_type": "markdown",
   "metadata": {},
   "source": [
    "# Simple Linear Regression"
   ]
  },
  {
   "cell_type": "code",
   "execution_count": 11,
   "metadata": {},
   "outputs": [],
   "source": [
    "import pandas as pd  \n",
    "import numpy as np  \n",
    "import matplotlib.pyplot as plt  \n",
    "import seaborn as seabornInstance \n",
    "from sklearn.model_selection import train_test_split \n",
    "from sklearn.linear_model import LinearRegression\n",
    "from sklearn import metrics\n",
    "%matplotlib inline"
   ]
  },
  {
   "cell_type": "code",
   "execution_count": 12,
   "metadata": {},
   "outputs": [],
   "source": [
    "df = pd.read_csv('GS.csv')"
   ]
  },
  {
   "cell_type": "code",
   "execution_count": 13,
   "metadata": {},
   "outputs": [
    {
     "data": {
      "text/plain": [
       "(2071, 12)"
      ]
     },
     "execution_count": 13,
     "metadata": {},
     "output_type": "execute_result"
    }
   ],
   "source": [
    "df.shape"
   ]
  },
  {
   "cell_type": "code",
   "execution_count": 14,
   "metadata": {},
   "outputs": [
    {
     "data": {
      "text/html": [
       "<div>\n",
       "<style scoped>\n",
       "    .dataframe tbody tr th:only-of-type {\n",
       "        vertical-align: middle;\n",
       "    }\n",
       "\n",
       "    .dataframe tbody tr th {\n",
       "        vertical-align: top;\n",
       "    }\n",
       "\n",
       "    .dataframe thead th {\n",
       "        text-align: right;\n",
       "    }\n",
       "</style>\n",
       "<table border=\"1\" class=\"dataframe\">\n",
       "  <thead>\n",
       "    <tr style=\"text-align: right;\">\n",
       "      <th></th>\n",
       "      <th>Open</th>\n",
       "      <th>High</th>\n",
       "      <th>Low</th>\n",
       "      <th>Close</th>\n",
       "      <th>Volume</th>\n",
       "      <th>Ex-Dividend</th>\n",
       "      <th>Split Ratio</th>\n",
       "      <th>Adj. Open</th>\n",
       "      <th>Adj. High</th>\n",
       "      <th>Adj. Low</th>\n",
       "      <th>Adj. Close</th>\n",
       "      <th>Adj. Volume</th>\n",
       "    </tr>\n",
       "  </thead>\n",
       "  <tbody>\n",
       "    <tr>\n",
       "      <th>count</th>\n",
       "      <td>2071.000000</td>\n",
       "      <td>2071.000000</td>\n",
       "      <td>2071.000000</td>\n",
       "      <td>2071.000000</td>\n",
       "      <td>2.071000e+03</td>\n",
       "      <td>2071.000000</td>\n",
       "      <td>2071.0</td>\n",
       "      <td>2071.000000</td>\n",
       "      <td>2071.000000</td>\n",
       "      <td>2071.000000</td>\n",
       "      <td>2071.000000</td>\n",
       "      <td>2.071000e+03</td>\n",
       "    </tr>\n",
       "    <tr>\n",
       "      <th>mean</th>\n",
       "      <td>168.002162</td>\n",
       "      <td>169.631972</td>\n",
       "      <td>166.378928</td>\n",
       "      <td>167.996299</td>\n",
       "      <td>4.840813e+06</td>\n",
       "      <td>0.007808</td>\n",
       "      <td>1.0</td>\n",
       "      <td>160.817209</td>\n",
       "      <td>162.372230</td>\n",
       "      <td>159.269828</td>\n",
       "      <td>160.812860</td>\n",
       "      <td>4.840813e+06</td>\n",
       "    </tr>\n",
       "    <tr>\n",
       "      <th>std</th>\n",
       "      <td>41.268981</td>\n",
       "      <td>41.444286</td>\n",
       "      <td>41.077186</td>\n",
       "      <td>41.261555</td>\n",
       "      <td>4.703515e+06</td>\n",
       "      <td>0.065329</td>\n",
       "      <td>0.0</td>\n",
       "      <td>43.734906</td>\n",
       "      <td>43.951656</td>\n",
       "      <td>43.505901</td>\n",
       "      <td>43.729471</td>\n",
       "      <td>4.703515e+06</td>\n",
       "    </tr>\n",
       "    <tr>\n",
       "      <th>min</th>\n",
       "      <td>88.060000</td>\n",
       "      <td>89.280000</td>\n",
       "      <td>84.270000</td>\n",
       "      <td>87.700000</td>\n",
       "      <td>6.977000e+05</td>\n",
       "      <td>0.000000</td>\n",
       "      <td>1.0</td>\n",
       "      <td>80.960208</td>\n",
       "      <td>82.081846</td>\n",
       "      <td>77.475775</td>\n",
       "      <td>80.803914</td>\n",
       "      <td>6.977000e+05</td>\n",
       "    </tr>\n",
       "    <tr>\n",
       "      <th>25%</th>\n",
       "      <td>145.855000</td>\n",
       "      <td>147.535000</td>\n",
       "      <td>144.060000</td>\n",
       "      <td>145.610000</td>\n",
       "      <td>2.628349e+06</td>\n",
       "      <td>0.000000</td>\n",
       "      <td>1.0</td>\n",
       "      <td>135.066604</td>\n",
       "      <td>136.446118</td>\n",
       "      <td>133.641200</td>\n",
       "      <td>135.095525</td>\n",
       "      <td>2.628349e+06</td>\n",
       "    </tr>\n",
       "    <tr>\n",
       "      <th>50%</th>\n",
       "      <td>163.490000</td>\n",
       "      <td>164.869900</td>\n",
       "      <td>162.020000</td>\n",
       "      <td>163.420000</td>\n",
       "      <td>3.666500e+06</td>\n",
       "      <td>0.000000</td>\n",
       "      <td>1.0</td>\n",
       "      <td>154.577293</td>\n",
       "      <td>156.031370</td>\n",
       "      <td>153.195793</td>\n",
       "      <td>154.558348</td>\n",
       "      <td>3.666500e+06</td>\n",
       "    </tr>\n",
       "    <tr>\n",
       "      <th>75%</th>\n",
       "      <td>189.645000</td>\n",
       "      <td>190.890000</td>\n",
       "      <td>188.040000</td>\n",
       "      <td>189.715000</td>\n",
       "      <td>5.485063e+06</td>\n",
       "      <td>0.000000</td>\n",
       "      <td>1.0</td>\n",
       "      <td>182.798730</td>\n",
       "      <td>184.180882</td>\n",
       "      <td>181.393857</td>\n",
       "      <td>182.676453</td>\n",
       "      <td>5.485063e+06</td>\n",
       "    </tr>\n",
       "    <tr>\n",
       "      <th>max</th>\n",
       "      <td>274.340000</td>\n",
       "      <td>275.310000</td>\n",
       "      <td>270.770000</td>\n",
       "      <td>273.380000</td>\n",
       "      <td>1.020437e+08</td>\n",
       "      <td>0.750000</td>\n",
       "      <td>1.0</td>\n",
       "      <td>274.340000</td>\n",
       "      <td>275.310000</td>\n",
       "      <td>270.770000</td>\n",
       "      <td>273.380000</td>\n",
       "      <td>1.020437e+08</td>\n",
       "    </tr>\n",
       "  </tbody>\n",
       "</table>\n",
       "</div>"
      ],
      "text/plain": [
       "              Open         High          Low        Close        Volume  \\\n",
       "count  2071.000000  2071.000000  2071.000000  2071.000000  2.071000e+03   \n",
       "mean    168.002162   169.631972   166.378928   167.996299  4.840813e+06   \n",
       "std      41.268981    41.444286    41.077186    41.261555  4.703515e+06   \n",
       "min      88.060000    89.280000    84.270000    87.700000  6.977000e+05   \n",
       "25%     145.855000   147.535000   144.060000   145.610000  2.628349e+06   \n",
       "50%     163.490000   164.869900   162.020000   163.420000  3.666500e+06   \n",
       "75%     189.645000   190.890000   188.040000   189.715000  5.485063e+06   \n",
       "max     274.340000   275.310000   270.770000   273.380000  1.020437e+08   \n",
       "\n",
       "       Ex-Dividend  Split Ratio    Adj. Open    Adj. High     Adj. Low  \\\n",
       "count  2071.000000       2071.0  2071.000000  2071.000000  2071.000000   \n",
       "mean      0.007808          1.0   160.817209   162.372230   159.269828   \n",
       "std       0.065329          0.0    43.734906    43.951656    43.505901   \n",
       "min       0.000000          1.0    80.960208    82.081846    77.475775   \n",
       "25%       0.000000          1.0   135.066604   136.446118   133.641200   \n",
       "50%       0.000000          1.0   154.577293   156.031370   153.195793   \n",
       "75%       0.000000          1.0   182.798730   184.180882   181.393857   \n",
       "max       0.750000          1.0   274.340000   275.310000   270.770000   \n",
       "\n",
       "        Adj. Close   Adj. Volume  \n",
       "count  2071.000000  2.071000e+03  \n",
       "mean    160.812860  4.840813e+06  \n",
       "std      43.729471  4.703515e+06  \n",
       "min      80.803914  6.977000e+05  \n",
       "25%     135.095525  2.628349e+06  \n",
       "50%     154.558348  3.666500e+06  \n",
       "75%     182.676453  5.485063e+06  \n",
       "max     273.380000  1.020437e+08  "
      ]
     },
     "execution_count": 14,
     "metadata": {},
     "output_type": "execute_result"
    }
   ],
   "source": [
    "df .describe()"
   ]
  },
  {
   "cell_type": "code",
   "execution_count": 15,
   "metadata": {},
   "outputs": [
    {
     "data": {
      "text/plain": [
       "<matplotlib.axes._subplots.AxesSubplot at 0x1a1bd86f98>"
      ]
     },
     "execution_count": 15,
     "metadata": {},
     "output_type": "execute_result"
    },
    {
     "data": {
      "image/png": "[encoded data removed]",
      "text/plain": [
       "<Figure size 432x288 with 1 Axes>"
      ]
     },
     "metadata": {},
     "output_type": "display_data"
    }
   ],
   "source": [
    "df.plot()"
   ]
  },
  {
   "cell_type": "code",
   "execution_count": 16,
   "metadata": {},
   "outputs": [],
   "source": [
    "from sklearn.linear_model import LinearRegression\n",
    "from sklearn.neighbors import KNeighborsRegressor\n",
    "\n",
    "from sklearn.linear_model import Ridge\n",
    "from sklearn.preprocessing import PolynomialFeatures\n",
    "from sklearn.pipeline import make_pipeline"
   ]
  },
  {
   "cell_type": "code",
   "execution_count": 17,
   "metadata": {},
   "outputs": [
    {
     "data": {
      "image/png": "[encoded data removed]",
      "text/plain": [
       "<Figure size 432x288 with 1 Axes>"
      ]
     },
     "metadata": {},
     "output_type": "display_data"
    }
   ],
   "source": [
    "df.plot(x='Low', y='High')\n",
    "plt.title('Low vs high')  \n",
    "plt.xlabel('Low')  \n",
    "plt.ylabel('High') \n",
    "plt.show()"
   ]
  },
  {
   "cell_type": "code",
   "execution_count": 18,
   "metadata": {},
   "outputs": [],
   "source": [
    "X = df['Low'].values.reshape(-1,1)\n",
    "y = df['High'].values.reshape(-1,1)\n",
    "X_train, X_test, y_train, y_test = train_test_split(X, y, test_size=0.2, random_state=0)"
   ]
  },
  {
   "cell_type": "code",
   "execution_count": 19,
   "metadata": {},
   "outputs": [],
   "source": [
    "X_train, X_test, y_train, y_test = train_test_split(X, y, test_size=0.2, random_state=0)"
   ]
  },
  {
   "cell_type": "code",
   "execution_count": 20,
   "metadata": {},
   "outputs": [
    {
     "data": {
      "text/plain": [
       "LinearRegression(copy_X=True, fit_intercept=True, n_jobs=1, normalize=False)"
      ]
     },
     "execution_count": 20,
     "metadata": {},
     "output_type": "execute_result"
    }
   ],
   "source": [
    "regressor = LinearRegression()  \n",
    "regressor.fit(X_train, y_train) #training the algorithm"
   ]
  },
  {
   "cell_type": "code",
   "execution_count": 21,
   "metadata": {},
   "outputs": [
    {
     "name": "stdout",
     "output_type": "stream",
     "text": [
      "[1.90148422]\n"
     ]
    }
   ],
   "source": [
    "#To retrieve the intercept:\n",
    "print(regressor.intercept_)"
   ]
  },
  {
   "cell_type": "code",
   "execution_count": 22,
   "metadata": {},
   "outputs": [
    {
     "name": "stdout",
     "output_type": "stream",
     "text": [
      "[[1.00821482]]\n"
     ]
    }
   ],
   "source": [
    "#For retrieving the slope:\n",
    "print(regressor.coef_)"
   ]
  },
  {
   "cell_type": "code",
   "execution_count": 23,
   "metadata": {},
   "outputs": [],
   "source": [
    "y_pred = regressor.predict(X_test)"
   ]
  },
  {
   "cell_type": "code",
   "execution_count": 24,
   "metadata": {},
   "outputs": [
    {
     "data": {
      "text/html": [
       "<div>\n",
       "<style scoped>\n",
       "    .dataframe tbody tr th:only-of-type {\n",
       "        vertical-align: middle;\n",
       "    }\n",
       "\n",
       "    .dataframe tbody tr th {\n",
       "        vertical-align: top;\n",
       "    }\n",
       "\n",
       "    .dataframe thead th {\n",
       "        text-align: right;\n",
       "    }\n",
       "</style>\n",
       "<table border=\"1\" class=\"dataframe\">\n",
       "  <thead>\n",
       "    <tr style=\"text-align: right;\">\n",
       "      <th></th>\n",
       "      <th>Actual</th>\n",
       "      <th>Predicted</th>\n",
       "    </tr>\n",
       "  </thead>\n",
       "  <tbody>\n",
       "    <tr>\n",
       "      <th>0</th>\n",
       "      <td>168.2800</td>\n",
       "      <td>169.194569</td>\n",
       "    </tr>\n",
       "    <tr>\n",
       "      <th>1</th>\n",
       "      <td>189.5000</td>\n",
       "      <td>190.588888</td>\n",
       "    </tr>\n",
       "    <tr>\n",
       "      <th>2</th>\n",
       "      <td>157.9000</td>\n",
       "      <td>158.860367</td>\n",
       "    </tr>\n",
       "    <tr>\n",
       "      <th>3</th>\n",
       "      <td>159.2900</td>\n",
       "      <td>159.596364</td>\n",
       "    </tr>\n",
       "    <tr>\n",
       "      <th>4</th>\n",
       "      <td>244.6900</td>\n",
       "      <td>245.355117</td>\n",
       "    </tr>\n",
       "    <tr>\n",
       "      <th>5</th>\n",
       "      <td>152.3300</td>\n",
       "      <td>152.259081</td>\n",
       "    </tr>\n",
       "    <tr>\n",
       "      <th>6</th>\n",
       "      <td>160.7200</td>\n",
       "      <td>160.191211</td>\n",
       "    </tr>\n",
       "    <tr>\n",
       "      <th>7</th>\n",
       "      <td>168.4600</td>\n",
       "      <td>167.974629</td>\n",
       "    </tr>\n",
       "    <tr>\n",
       "      <th>8</th>\n",
       "      <td>98.5100</td>\n",
       "      <td>98.196082</td>\n",
       "    </tr>\n",
       "    <tr>\n",
       "      <th>9</th>\n",
       "      <td>175.3400</td>\n",
       "      <td>176.373059</td>\n",
       "    </tr>\n",
       "    <tr>\n",
       "      <th>10</th>\n",
       "      <td>275.0300</td>\n",
       "      <td>271.538456</td>\n",
       "    </tr>\n",
       "    <tr>\n",
       "      <th>11</th>\n",
       "      <td>169.0200</td>\n",
       "      <td>170.676645</td>\n",
       "    </tr>\n",
       "    <tr>\n",
       "      <th>12</th>\n",
       "      <td>211.7700</td>\n",
       "      <td>207.728540</td>\n",
       "    </tr>\n",
       "    <tr>\n",
       "      <th>13</th>\n",
       "      <td>152.8000</td>\n",
       "      <td>153.274857</td>\n",
       "    </tr>\n",
       "    <tr>\n",
       "      <th>14</th>\n",
       "      <td>188.6590</td>\n",
       "      <td>187.342436</td>\n",
       "    </tr>\n",
       "    <tr>\n",
       "      <th>15</th>\n",
       "      <td>168.8000</td>\n",
       "      <td>170.283441</td>\n",
       "    </tr>\n",
       "    <tr>\n",
       "      <th>16</th>\n",
       "      <td>238.1500</td>\n",
       "      <td>237.370055</td>\n",
       "    </tr>\n",
       "    <tr>\n",
       "      <th>17</th>\n",
       "      <td>227.3400</td>\n",
       "      <td>228.346533</td>\n",
       "    </tr>\n",
       "    <tr>\n",
       "      <th>18</th>\n",
       "      <td>169.9800</td>\n",
       "      <td>169.507116</td>\n",
       "    </tr>\n",
       "    <tr>\n",
       "      <th>19</th>\n",
       "      <td>168.1800</td>\n",
       "      <td>166.542964</td>\n",
       "    </tr>\n",
       "    <tr>\n",
       "      <th>20</th>\n",
       "      <td>149.9500</td>\n",
       "      <td>148.193455</td>\n",
       "    </tr>\n",
       "    <tr>\n",
       "      <th>21</th>\n",
       "      <td>242.4200</td>\n",
       "      <td>239.840182</td>\n",
       "    </tr>\n",
       "    <tr>\n",
       "      <th>22</th>\n",
       "      <td>192.4500</td>\n",
       "      <td>193.926079</td>\n",
       "    </tr>\n",
       "    <tr>\n",
       "      <th>23</th>\n",
       "      <td>162.1900</td>\n",
       "      <td>163.467909</td>\n",
       "    </tr>\n",
       "    <tr>\n",
       "      <th>24</th>\n",
       "      <td>141.5800</td>\n",
       "      <td>140.934308</td>\n",
       "    </tr>\n",
       "    <tr>\n",
       "      <th>25</th>\n",
       "      <td>168.1000</td>\n",
       "      <td>167.853644</td>\n",
       "    </tr>\n",
       "    <tr>\n",
       "      <th>26</th>\n",
       "      <td>96.3900</td>\n",
       "      <td>96.623267</td>\n",
       "    </tr>\n",
       "    <tr>\n",
       "      <th>27</th>\n",
       "      <td>103.5800</td>\n",
       "      <td>103.519456</td>\n",
       "    </tr>\n",
       "    <tr>\n",
       "      <th>28</th>\n",
       "      <td>267.8700</td>\n",
       "      <td>267.273707</td>\n",
       "    </tr>\n",
       "    <tr>\n",
       "      <th>29</th>\n",
       "      <td>192.1600</td>\n",
       "      <td>191.455952</td>\n",
       "    </tr>\n",
       "    <tr>\n",
       "      <th>...</th>\n",
       "      <td>...</td>\n",
       "      <td>...</td>\n",
       "    </tr>\n",
       "    <tr>\n",
       "      <th>385</th>\n",
       "      <td>188.4300</td>\n",
       "      <td>188.925333</td>\n",
       "    </tr>\n",
       "    <tr>\n",
       "      <th>386</th>\n",
       "      <td>174.1800</td>\n",
       "      <td>175.919463</td>\n",
       "    </tr>\n",
       "    <tr>\n",
       "      <th>387</th>\n",
       "      <td>135.7600</td>\n",
       "      <td>135.983973</td>\n",
       "    </tr>\n",
       "    <tr>\n",
       "      <th>388</th>\n",
       "      <td>170.3800</td>\n",
       "      <td>170.969027</td>\n",
       "    </tr>\n",
       "    <tr>\n",
       "      <th>389</th>\n",
       "      <td>125.0500</td>\n",
       "      <td>125.962318</td>\n",
       "    </tr>\n",
       "    <tr>\n",
       "      <th>390</th>\n",
       "      <td>177.5000</td>\n",
       "      <td>176.241991</td>\n",
       "    </tr>\n",
       "    <tr>\n",
       "      <th>391</th>\n",
       "      <td>103.1700</td>\n",
       "      <td>102.803623</td>\n",
       "    </tr>\n",
       "    <tr>\n",
       "      <th>392</th>\n",
       "      <td>168.2400</td>\n",
       "      <td>168.791283</td>\n",
       "    </tr>\n",
       "    <tr>\n",
       "      <th>393</th>\n",
       "      <td>250.6800</td>\n",
       "      <td>247.915982</td>\n",
       "    </tr>\n",
       "    <tr>\n",
       "      <th>394</th>\n",
       "      <td>168.8900</td>\n",
       "      <td>169.053419</td>\n",
       "    </tr>\n",
       "    <tr>\n",
       "      <th>395</th>\n",
       "      <td>191.1900</td>\n",
       "      <td>192.675892</td>\n",
       "    </tr>\n",
       "    <tr>\n",
       "      <th>396</th>\n",
       "      <td>248.8800</td>\n",
       "      <td>250.023151</td>\n",
       "    </tr>\n",
       "    <tr>\n",
       "      <th>397</th>\n",
       "      <td>211.2000</td>\n",
       "      <td>208.756919</td>\n",
       "    </tr>\n",
       "    <tr>\n",
       "      <th>398</th>\n",
       "      <td>260.2600</td>\n",
       "      <td>260.861461</td>\n",
       "    </tr>\n",
       "    <tr>\n",
       "      <th>399</th>\n",
       "      <td>159.7500</td>\n",
       "      <td>160.100472</td>\n",
       "    </tr>\n",
       "    <tr>\n",
       "      <th>400</th>\n",
       "      <td>166.1600</td>\n",
       "      <td>167.944383</td>\n",
       "    </tr>\n",
       "    <tr>\n",
       "      <th>401</th>\n",
       "      <td>166.1800</td>\n",
       "      <td>166.220336</td>\n",
       "    </tr>\n",
       "    <tr>\n",
       "      <th>402</th>\n",
       "      <td>177.9700</td>\n",
       "      <td>176.292402</td>\n",
       "    </tr>\n",
       "    <tr>\n",
       "      <th>403</th>\n",
       "      <td>177.5000</td>\n",
       "      <td>179.054910</td>\n",
       "    </tr>\n",
       "    <tr>\n",
       "      <th>404</th>\n",
       "      <td>181.0000</td>\n",
       "      <td>180.859615</td>\n",
       "    </tr>\n",
       "    <tr>\n",
       "      <th>405</th>\n",
       "      <td>162.1100</td>\n",
       "      <td>163.810702</td>\n",
       "    </tr>\n",
       "    <tr>\n",
       "      <th>406</th>\n",
       "      <td>153.1100</td>\n",
       "      <td>154.031018</td>\n",
       "    </tr>\n",
       "    <tr>\n",
       "      <th>407</th>\n",
       "      <td>156.5000</td>\n",
       "      <td>153.839458</td>\n",
       "    </tr>\n",
       "    <tr>\n",
       "      <th>408</th>\n",
       "      <td>160.5900</td>\n",
       "      <td>160.191211</td>\n",
       "    </tr>\n",
       "    <tr>\n",
       "      <th>409</th>\n",
       "      <td>91.1400</td>\n",
       "      <td>92.781968</td>\n",
       "    </tr>\n",
       "    <tr>\n",
       "      <th>410</th>\n",
       "      <td>202.8800</td>\n",
       "      <td>204.986195</td>\n",
       "    </tr>\n",
       "    <tr>\n",
       "      <th>411</th>\n",
       "      <td>236.2900</td>\n",
       "      <td>235.323379</td>\n",
       "    </tr>\n",
       "    <tr>\n",
       "      <th>412</th>\n",
       "      <td>181.5998</td>\n",
       "      <td>182.926455</td>\n",
       "    </tr>\n",
       "    <tr>\n",
       "      <th>413</th>\n",
       "      <td>245.5700</td>\n",
       "      <td>245.506349</td>\n",
       "    </tr>\n",
       "    <tr>\n",
       "      <th>414</th>\n",
       "      <td>166.0000</td>\n",
       "      <td>166.936168</td>\n",
       "    </tr>\n",
       "  </tbody>\n",
       "</table>\n",
       "<p>415 rows × 2 columns</p>\n",
       "</div>"
      ],
      "text/plain": [
       "       Actual   Predicted\n",
       "0    168.2800  169.194569\n",
       "1    189.5000  190.588888\n",
       "2    157.9000  158.860367\n",
       "3    159.2900  159.596364\n",
       "4    244.6900  245.355117\n",
       "5    152.3300  152.259081\n",
       "6    160.7200  160.191211\n",
       "7    168.4600  167.974629\n",
       "8     98.5100   98.196082\n",
       "9    175.3400  176.373059\n",
       "10   275.0300  271.538456\n",
       "11   169.0200  170.676645\n",
       "12   211.7700  207.728540\n",
       "13   152.8000  153.274857\n",
       "14   188.6590  187.342436\n",
       "15   168.8000  170.283441\n",
       "16   238.1500  237.370055\n",
       "17   227.3400  228.346533\n",
       "18   169.9800  169.507116\n",
       "19   168.1800  166.542964\n",
       "20   149.9500  148.193455\n",
       "21   242.4200  239.840182\n",
       "22   192.4500  193.926079\n",
       "23   162.1900  163.467909\n",
       "24   141.5800  140.934308\n",
       "25   168.1000  167.853644\n",
       "26    96.3900   96.623267\n",
       "27   103.5800  103.519456\n",
       "28   267.8700  267.273707\n",
       "29   192.1600  191.455952\n",
       "..        ...         ...\n",
       "385  188.4300  188.925333\n",
       "386  174.1800  175.919463\n",
       "387  135.7600  135.983973\n",
       "388  170.3800  170.969027\n",
       "389  125.0500  125.962318\n",
       "390  177.5000  176.241991\n",
       "391  103.1700  102.803623\n",
       "392  168.2400  168.791283\n",
       "393  250.6800  247.915982\n",
       "394  168.8900  169.053419\n",
       "395  191.1900  192.675892\n",
       "396  248.8800  250.023151\n",
       "397  211.2000  208.756919\n",
       "398  260.2600  260.861461\n",
       "399  159.7500  160.100472\n",
       "400  166.1600  167.944383\n",
       "401  166.1800  166.220336\n",
       "402  177.9700  176.292402\n",
       "403  177.5000  179.054910\n",
       "404  181.0000  180.859615\n",
       "405  162.1100  163.810702\n",
       "406  153.1100  154.031018\n",
       "407  156.5000  153.839458\n",
       "408  160.5900  160.191211\n",
       "409   91.1400   92.781968\n",
       "410  202.8800  204.986195\n",
       "411  236.2900  235.323379\n",
       "412  181.5998  182.926455\n",
       "413  245.5700  245.506349\n",
       "414  166.0000  166.936168\n",
       "\n",
       "[415 rows x 2 columns]"
      ]
     },
     "execution_count": 24,
     "metadata": {},
     "output_type": "execute_result"
    }
   ],
   "source": [
    "df = pd.DataFrame({'Actual': y_test.flatten(), 'Predicted': y_pred.flatten()})\n",
    "df"
   ]
  },
  {
   "cell_type": "code",
   "execution_count": 25,
   "metadata": {},
   "outputs": [
    {
     "data": {
      "image/png": "[encoded data removed]",
      "text/plain": [
       "<Figure size 1152x720 with 1 Axes>"
      ]
     },
     "metadata": {},
     "output_type": "display_data"
    }
   ],
   "source": [
    "df1 = df.head(25)\n",
    "df1.plot(kind='bar',figsize=(16,10))\n",
    "plt.grid(which='major', linestyle='-', linewidth='0.5', color='green')\n",
    "plt.grid(which='minor', linestyle=':', linewidth='0.5', color='black')\n",
    "plt.show()"
   ]
  },
  {
   "cell_type": "code",
   "execution_count": 26,
   "metadata": {},
   "outputs": [
    {
     "data": {
      "image/png": "[encoded data removed]",
      "text/plain": [
       "<Figure size 432x288 with 1 Axes>"
      ]
     },
     "metadata": {},
     "output_type": "display_data"
    }
   ],
   "source": [
    "plt.scatter(X_test, y_test,  color='gray')\n",
    "plt.plot(X_test, y_pred, color='red', linewidth=2)\n",
    "plt.show()"
   ]
  },
  {
   "cell_type": "code",
   "execution_count": 27,
   "metadata": {},
   "outputs": [
    {
     "name": "stdout",
     "output_type": "stream",
     "text": [
      "Mean Absolute Error: 1.1358120445155289\n",
      "Mean Squared Error: 2.409748356017671\n",
      "Root Mean Squared Error: 1.5523364184408195\n"
     ]
    }
   ],
   "source": [
    "print('Mean Absolute Error:', metrics.mean_absolute_error(y_test, y_pred))  \n",
    "print('Mean Squared Error:', metrics.mean_squared_error(y_test, y_pred))  \n",
    "print('Root Mean Squared Error:', np.sqrt(metrics.mean_squared_error(y_test, y_pred)))"
   ]
  },
  {
   "cell_type": "markdown",
   "metadata": {},
   "source": [
    "# Ridge Regression"
   ]
  },
  {
   "cell_type": "code",
   "execution_count": 28,
   "metadata": {},
   "outputs": [],
   "source": [
    "# Train\n",
    "ridge_model = Ridge()\n",
    "ridge_model.fit(X_train, y_train)\n",
    "\n",
    "# Infer\n",
    "y_pred_train_ridge = ridge_model.predict(X_train)\n",
    "y_pred_ridge = ridge_model.predict(X_test)"
   ]
  },
  {
   "cell_type": "code",
   "execution_count": 29,
   "metadata": {},
   "outputs": [
    {
     "data": {
      "text/plain": [
       "Pipeline(memory=None,\n",
       "     steps=[('polynomialfeatures', PolynomialFeatures(degree=2, include_bias=True, interaction_only=False)), ('ridge', Ridge(alpha=1.0, copy_X=True, fit_intercept=True, max_iter=None,\n",
       "   normalize=False, random_state=None, solver='auto', tol=0.001))])"
      ]
     },
     "execution_count": 29,
     "metadata": {},
     "output_type": "execute_result"
    }
   ],
   "source": [
    "# Quadratic Regression 2\n",
    "clfpoly2 = make_pipeline(PolynomialFeatures(2), Ridge())\n",
    "clfpoly2.fit(X_train, y_train)"
   ]
  },
  {
   "cell_type": "code",
   "execution_count": 30,
   "metadata": {},
   "outputs": [
    {
     "data": {
      "text/plain": [
       "KNeighborsRegressor(algorithm='auto', leaf_size=30, metric='minkowski',\n",
       "          metric_params=None, n_jobs=1, n_neighbors=2, p=2,\n",
       "          weights='uniform')"
      ]
     },
     "execution_count": 30,
     "metadata": {},
     "output_type": "execute_result"
    }
   ],
   "source": [
    "# KNN Regression\n",
    "clfknn = KNeighborsRegressor(n_neighbors=2)\n",
    "clfknn.fit(X_train, y_train)"
   ]
  },
  {
   "cell_type": "code",
   "execution_count": 31,
   "metadata": {},
   "outputs": [],
   "source": [
    "confidencepoly2 = clfpoly2.score(X_test,y_test)\n",
    "confidenceknn = clfknn.score(X_test, y_test)"
   ]
  },
  {
   "cell_type": "markdown",
   "metadata": {},
   "source": [
    "# Multiple Linear Regression"
   ]
  },
  {
   "cell_type": "code",
   "execution_count": 13,
   "metadata": {},
   "outputs": [],
   "source": [
    "import pandas as pd  \n",
    "import numpy as np  \n",
    "import matplotlib.pyplot as plt  \n",
    "import seaborn as seabornInstance \n",
    "from sklearn.model_selection import train_test_split \n",
    "from sklearn.linear_model import LinearRegression\n",
    "from sklearn import metrics\n",
    "%matplotlib inline"
   ]
  },
  {
   "cell_type": "code",
   "execution_count": 14,
   "metadata": {},
   "outputs": [],
   "source": [
    "df = pd.read_csv('GS.csv')"
   ]
  },
  {
   "cell_type": "code",
   "execution_count": 15,
   "metadata": {},
   "outputs": [
    {
     "data": {
      "text/plain": [
       "(2071, 12)"
      ]
     },
     "execution_count": 15,
     "metadata": {},
     "output_type": "execute_result"
    }
   ],
   "source": [
    "df.shape"
   ]
  },
  {
   "cell_type": "code",
   "execution_count": 16,
   "metadata": {},
   "outputs": [
    {
     "data": {
      "text/html": [
       "<div>\n",
       "<style scoped>\n",
       "    .dataframe tbody tr th:only-of-type {\n",
       "        vertical-align: middle;\n",
       "    }\n",
       "\n",
       "    .dataframe tbody tr th {\n",
       "        vertical-align: top;\n",
       "    }\n",
       "\n",
       "    .dataframe thead th {\n",
       "        text-align: right;\n",
       "    }\n",
       "</style>\n",
       "<table border=\"1\" class=\"dataframe\">\n",
       "  <thead>\n",
       "    <tr style=\"text-align: right;\">\n",
       "      <th></th>\n",
       "      <th>Open</th>\n",
       "      <th>High</th>\n",
       "      <th>Low</th>\n",
       "      <th>Close</th>\n",
       "      <th>Volume</th>\n",
       "      <th>Ex-Dividend</th>\n",
       "      <th>Split Ratio</th>\n",
       "      <th>Adj. Open</th>\n",
       "      <th>Adj. High</th>\n",
       "      <th>Adj. Low</th>\n",
       "      <th>Adj. Close</th>\n",
       "      <th>Adj. Volume</th>\n",
       "    </tr>\n",
       "  </thead>\n",
       "  <tbody>\n",
       "    <tr>\n",
       "      <th>count</th>\n",
       "      <td>2071.000000</td>\n",
       "      <td>2071.000000</td>\n",
       "      <td>2071.000000</td>\n",
       "      <td>2071.000000</td>\n",
       "      <td>2.071000e+03</td>\n",
       "      <td>2071.000000</td>\n",
       "      <td>2071.0</td>\n",
       "      <td>2071.000000</td>\n",
       "      <td>2071.000000</td>\n",
       "      <td>2071.000000</td>\n",
       "      <td>2071.000000</td>\n",
       "      <td>2.071000e+03</td>\n",
       "    </tr>\n",
       "    <tr>\n",
       "      <th>mean</th>\n",
       "      <td>168.002162</td>\n",
       "      <td>169.631972</td>\n",
       "      <td>166.378928</td>\n",
       "      <td>167.996299</td>\n",
       "      <td>4.840813e+06</td>\n",
       "      <td>0.007808</td>\n",
       "      <td>1.0</td>\n",
       "      <td>160.817209</td>\n",
       "      <td>162.372230</td>\n",
       "      <td>159.269828</td>\n",
       "      <td>160.812860</td>\n",
       "      <td>4.840813e+06</td>\n",
       "    </tr>\n",
       "    <tr>\n",
       "      <th>std</th>\n",
       "      <td>41.268981</td>\n",
       "      <td>41.444286</td>\n",
       "      <td>41.077186</td>\n",
       "      <td>41.261555</td>\n",
       "      <td>4.703515e+06</td>\n",
       "      <td>0.065329</td>\n",
       "      <td>0.0</td>\n",
       "      <td>43.734906</td>\n",
       "      <td>43.951656</td>\n",
       "      <td>43.505901</td>\n",
       "      <td>43.729471</td>\n",
       "      <td>4.703515e+06</td>\n",
       "    </tr>\n",
       "    <tr>\n",
       "      <th>min</th>\n",
       "      <td>88.060000</td>\n",
       "      <td>89.280000</td>\n",
       "      <td>84.270000</td>\n",
       "      <td>87.700000</td>\n",
       "      <td>6.977000e+05</td>\n",
       "      <td>0.000000</td>\n",
       "      <td>1.0</td>\n",
       "      <td>80.960208</td>\n",
       "      <td>82.081846</td>\n",
       "      <td>77.475775</td>\n",
       "      <td>80.803914</td>\n",
       "      <td>6.977000e+05</td>\n",
       "    </tr>\n",
       "    <tr>\n",
       "      <th>25%</th>\n",
       "      <td>145.855000</td>\n",
       "      <td>147.535000</td>\n",
       "      <td>144.060000</td>\n",
       "      <td>145.610000</td>\n",
       "      <td>2.628349e+06</td>\n",
       "      <td>0.000000</td>\n",
       "      <td>1.0</td>\n",
       "      <td>135.066604</td>\n",
       "      <td>136.446118</td>\n",
       "      <td>133.641200</td>\n",
       "      <td>135.095525</td>\n",
       "      <td>2.628349e+06</td>\n",
       "    </tr>\n",
       "    <tr>\n",
       "      <th>50%</th>\n",
       "      <td>163.490000</td>\n",
       "      <td>164.869900</td>\n",
       "      <td>162.020000</td>\n",
       "      <td>163.420000</td>\n",
       "      <td>3.666500e+06</td>\n",
       "      <td>0.000000</td>\n",
       "      <td>1.0</td>\n",
       "      <td>154.577293</td>\n",
       "      <td>156.031370</td>\n",
       "      <td>153.195793</td>\n",
       "      <td>154.558348</td>\n",
       "      <td>3.666500e+06</td>\n",
       "    </tr>\n",
       "    <tr>\n",
       "      <th>75%</th>\n",
       "      <td>189.645000</td>\n",
       "      <td>190.890000</td>\n",
       "      <td>188.040000</td>\n",
       "      <td>189.715000</td>\n",
       "      <td>5.485063e+06</td>\n",
       "      <td>0.000000</td>\n",
       "      <td>1.0</td>\n",
       "      <td>182.798730</td>\n",
       "      <td>184.180882</td>\n",
       "      <td>181.393857</td>\n",
       "      <td>182.676453</td>\n",
       "      <td>5.485063e+06</td>\n",
       "    </tr>\n",
       "    <tr>\n",
       "      <th>max</th>\n",
       "      <td>274.340000</td>\n",
       "      <td>275.310000</td>\n",
       "      <td>270.770000</td>\n",
       "      <td>273.380000</td>\n",
       "      <td>1.020437e+08</td>\n",
       "      <td>0.750000</td>\n",
       "      <td>1.0</td>\n",
       "      <td>274.340000</td>\n",
       "      <td>275.310000</td>\n",
       "      <td>270.770000</td>\n",
       "      <td>273.380000</td>\n",
       "      <td>1.020437e+08</td>\n",
       "    </tr>\n",
       "  </tbody>\n",
       "</table>\n",
       "</div>"
      ],
      "text/plain": [
       "              Open         High          Low        Close        Volume  \\\n",
       "count  2071.000000  2071.000000  2071.000000  2071.000000  2.071000e+03   \n",
       "mean    168.002162   169.631972   166.378928   167.996299  4.840813e+06   \n",
       "std      41.268981    41.444286    41.077186    41.261555  4.703515e+06   \n",
       "min      88.060000    89.280000    84.270000    87.700000  6.977000e+05   \n",
       "25%     145.855000   147.535000   144.060000   145.610000  2.628349e+06   \n",
       "50%     163.490000   164.869900   162.020000   163.420000  3.666500e+06   \n",
       "75%     189.645000   190.890000   188.040000   189.715000  5.485063e+06   \n",
       "max     274.340000   275.310000   270.770000   273.380000  1.020437e+08   \n",
       "\n",
       "       Ex-Dividend  Split Ratio    Adj. Open    Adj. High     Adj. Low  \\\n",
       "count  2071.000000       2071.0  2071.000000  2071.000000  2071.000000   \n",
       "mean      0.007808          1.0   160.817209   162.372230   159.269828   \n",
       "std       0.065329          0.0    43.734906    43.951656    43.505901   \n",
       "min       0.000000          1.0    80.960208    82.081846    77.475775   \n",
       "25%       0.000000          1.0   135.066604   136.446118   133.641200   \n",
       "50%       0.000000          1.0   154.577293   156.031370   153.195793   \n",
       "75%       0.000000          1.0   182.798730   184.180882   181.393857   \n",
       "max       0.750000          1.0   274.340000   275.310000   270.770000   \n",
       "\n",
       "        Adj. Close   Adj. Volume  \n",
       "count  2071.000000  2.071000e+03  \n",
       "mean    160.812860  4.840813e+06  \n",
       "std      43.729471  4.703515e+06  \n",
       "min      80.803914  6.977000e+05  \n",
       "25%     135.095525  2.628349e+06  \n",
       "50%     154.558348  3.666500e+06  \n",
       "75%     182.676453  5.485063e+06  \n",
       "max     273.380000  1.020437e+08  "
      ]
     },
     "execution_count": 16,
     "metadata": {},
     "output_type": "execute_result"
    }
   ],
   "source": [
    "df.describe()"
   ]
  },
  {
   "cell_type": "code",
   "execution_count": 17,
   "metadata": {},
   "outputs": [
    {
     "data": {
      "text/plain": [
       "Open           False\n",
       "High           False\n",
       "Low            False\n",
       "Close          False\n",
       "Volume         False\n",
       "Ex-Dividend    False\n",
       "Split Ratio    False\n",
       "Adj. Open      False\n",
       "Adj. High      False\n",
       "Adj. Low       False\n",
       "Adj. Close     False\n",
       "Adj. Volume    False\n",
       "dtype: bool"
      ]
     },
     "execution_count": 17,
     "metadata": {},
     "output_type": "execute_result"
    }
   ],
   "source": [
    "df.isnull().any()"
   ]
  },
  {
   "cell_type": "code",
   "execution_count": 18,
   "metadata": {},
   "outputs": [],
   "source": [
    "df = df.fillna(method='ffill')"
   ]
  },
  {
   "cell_type": "code",
   "execution_count": 19,
   "metadata": {},
   "outputs": [],
   "source": [
    "X = df[['High', 'Low', 'Close', 'Volume']].values\n",
    "y = df['Open'].values"
   ]
  },
  {
   "cell_type": "code",
   "execution_count": 20,
   "metadata": {},
   "outputs": [
    {
     "name": "stderr",
     "output_type": "stream",
     "text": [
      "/Users/cutty/anaconda3/lib/python3.6/site-packages/matplotlib/axes/_axes.py:6462: UserWarning: The 'normed' kwarg is deprecated, and has been replaced by the 'density' kwarg.\n",
      "  warnings.warn(\"The 'normed' kwarg is deprecated, and has been \"\n"
     ]
    },
    {
     "data": {
      "text/plain": [
       "<matplotlib.axes._subplots.AxesSubplot at 0x117453da0>"
      ]
     },
     "execution_count": 20,
     "metadata": {},
     "output_type": "execute_result"
    },
    {
     "data": {
      "image/png": "[encoded data removed]",
      "text/plain": [
       "<Figure size 1080x720 with 1 Axes>"
      ]
     },
     "metadata": {},
     "output_type": "display_data"
    }
   ],
   "source": [
    "import matplotlib.pyplot as plt\n",
    "plt.figure(figsize=(15,10))\n",
    "plt.tight_layout()\n",
    "import seaborn as seabornInstance \n",
    "seabornInstance.distplot(df['Open'])"
   ]
  },
  {
   "cell_type": "code",
   "execution_count": null,
   "metadata": {},
   "outputs": [],
   "source": []
  }
 ],
 "metadata": {
  "kernelspec": {
   "display_name": "Python 3",
   "language": "python",
   "name": "python3"
  },
  "language_info": {
   "codemirror_mode": {
    "name": "ipython",
    "version": 3
   },
   "file_extension": ".py",
   "mimetype": "text/x-python",
   "name": "python",
   "nbconvert_exporter": "python",
   "pygments_lexer": "ipython3",
   "version": "3.6.5"
  }
 },
 "nbformat": 4,
 "nbformat_minor": 2
}
